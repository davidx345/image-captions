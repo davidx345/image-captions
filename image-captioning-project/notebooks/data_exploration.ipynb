{
 "cells": [
  {
   "cell_type": "markdown",
   "metadata": {},
   "source": [
    "# Data Exploration\n",
    "\n",
    "In this notebook, we will explore the MSCOCO dataset to understand the images and their corresponding captions. We will visualize some samples from the dataset and analyze the distribution of captions."
   ]
  },
  {
   "cell_type": "code",
   "execution_count": 1,
   "metadata": {},
   "outputs": [],
   "source": [
    "# Import necessary libraries\n",
    "import os\n",
    "import matplotlib.pyplot as plt\n",
    "import numpy as np\n",
    "from PIL import Image\n",
    "import json\n",
    "\n",
    "# Define paths\n",
    "image_dir = '../data/processed/images/'  # Adjust path as necessary\n",
    "caption_file = '../data/processed/captions.json'  # Adjust path as necessary\n",
    "\n",
    "# Load captions\n",
    "with open(caption_file, 'r') as f:\n",
    "    captions = json.load(f)\n",
    "\n",
    "# Display some sample images and their captions\n",
    "def display_samples(images, captions, num_samples=5):\n",
    "    plt.figure(figsize=(15, 10))\n",
    "    for i in range(num_samples):\n",
    "        plt.subplot(1, num_samples, i + 1)\n",
    "        img_path = os.path.join(image_dir, images[i])\n",
    "        img = Image.open(img_path)\n",
    "        plt.imshow(img)\n",
    "        plt.axis('off')\n",
    "        plt.title(captions[images[i]])\n",
    "    plt.show()\n",
    "\n",
    "# Get sample images\n",
    "sample_images = list(captions.keys())[:5]\n",
    "display_samples(sample_images, captions)\n",
    "\n",
    "# Analyze caption lengths\n",
    "caption_lengths = [len(caption.split()) for caption in captions.values()]\n",
    "plt.figure(figsize=(10, 5))\n",
    "plt.hist(caption_lengths, bins=30, color='blue', alpha=0.7)\n",
    "plt.title('Distribution of Caption Lengths')\n",
    "plt.xlabel('Number of Words')\n",
    "plt.ylabel('Frequency')\n",
    "plt.grid(axis='y')\n",
    "plt.show()"
   ]
  }
 ],
 "metadata": {
  "kernelspec": {
   "display_name": "Python 3",
   "language": "python",
   "name": "python3"
  },
  "language_info": {
   "codemirror_mode": {
    "name": "ipython",
    "version": 3
   },
   "file_extension": ".py",
   "mimetype": "text/x-python",
   "name": "python",
   "nbconvert_exporter": "python",
   "pygments_lexer": "ipython3",
   "version": "3.8.5"
  }
 },
 "nbformat": 4,
 "nbformat_minor": 4
}